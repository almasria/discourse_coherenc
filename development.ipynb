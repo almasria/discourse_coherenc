{
 "cells": [
  {
   "cell_type": "code",
   "execution_count": null,
   "metadata": {},
   "outputs": [],
   "source": []
  },
  {
   "cell_type": "code",
   "execution_count": 12,
   "metadata": {},
   "outputs": [],
   "source": [
    "class Discourse:\n",
    "    '''\n",
    "    A class for the text to be analysed\n",
    "    '''\n",
    "\n",
    "    def __init__(self, text: list[str]=None):\n",
    "        self.text = text\n",
    "\n",
    "    def coherence_score(self, model):\n",
    "        pass\n",
    "\n",
    "    def add_sentence(self, sentence: str=None):\n",
    "        pass\n",
    "\n",
    "    def __str__(self):\n",
    "        return str(self.text.split(\" \"))\n",
    "\n",
    "  "
   ]
  },
  {
   "cell_type": "code",
   "execution_count": 13,
   "metadata": {},
   "outputs": [
    {
     "name": "stdout",
     "output_type": "stream",
     "text": [
      "['Hello', 'my', 'friend']\n"
     ]
    }
   ],
   "source": [
    "dis = Discourse(\"Hello my friend\")\n",
    "\n",
    "print(dis)"
   ]
  }
 ],
 "metadata": {
  "kernelspec": {
   "display_name": "Python 3",
   "language": "python",
   "name": "python3"
  },
  "language_info": {
   "codemirror_mode": {
    "name": "ipython",
    "version": 3
   },
   "file_extension": ".py",
   "mimetype": "text/x-python",
   "name": "python",
   "nbconvert_exporter": "python",
   "pygments_lexer": "ipython3",
   "version": "3.9.0rc2"
  }
 },
 "nbformat": 4,
 "nbformat_minor": 2
}
